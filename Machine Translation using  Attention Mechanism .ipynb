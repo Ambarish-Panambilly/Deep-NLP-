{
 "cells": [
  {
   "cell_type": "markdown",
   "metadata": {},
   "source": [
    "## Machine Translation using Seq2Seq models with Attention Mechanism \n",
    "\n",
    "In this notebook, I will be demostration English to German machine translation task using a LSTM based seq2seq model with Attention Mechanism. The whole model can be thought of as a replica to the previous seq2seq translation model with an Attention layer between the decoder and encoder. \n",
    "\n",
    "So, What is Attention and Why do we need it in the first place? \n",
    "\n",
    "The answer to this question itself is another quetion, Why do we need LSTM ? \n",
    "\n",
    "LSTM helps to mitigate the vanishing gradient problem and thus enabling the model to learn very long seqences, but how long? They also have a limit right? This is where attention comes in.\n",
    "\n",
    "So, coming back to the encoder decoder model. Notice that we have only used the finial state from the encoder in the previous model assuming that the model has successfuly encoded the information regarding the entire seqence and so taking the final hidden state is sufficient. Although this techniqe works well in several cases, as I said before, they also have limitiations. The biggest limitation is the seqence length itself. Consider the example of a machine translation task:\n",
    "\n",
    "How would a human translator translate a text? Would he/she take the entire input all at once or translate it part by part giving attention to the relevent part one by one? Naturally the second option right? The idea of attention mechanism is exactly this. For each output seqence, consider only the relevent input seqence, It's as simple as this. \n",
    "\n",
    "And how would we do this? Simply use a softmax layer in between encoder and decoder. That is, we add another neural network, not a recurrent one but a simple dense layer or multiple dense layers between encoder and decoder. The final layer of this neural network must be a softmax layer, that' it. We are using a neural network so that the whold model is end to end differentible and we can train the whole model as one using back propagation. \n",
    "\n",
    "The inputs to this attention layer will be a concatenation of the t-1 state from the decoder and each hidden state of the encoder. i.e, we take a copy of a single seqence from the decoder and repeatedly concatenate it with each seqence from the encoder and feed it to the attention layer. This must be reapeated for the entire decoder seqences. The outputs from the attention layer will contain the attention weights. Next, we take a dot product between these attention weigts and each encoder hidden states and finally a context vector is produced by taking a weighted sum of this dot product operation. If we are using teacher forcing, this context vector is again concatenated with the inputs and fed into the decoder LSTM. \n",
    "\n",
    "To summerize, the input to decoder LSTM in this case will be the Context vector and not the final hidden state from the encoder LSTM. Therefore, we will initalize the first hidden and cell states seperately so that we will have control of these states since we need them for our genrerative model. Also, here, will return the entire seqence from the encoder LSTM since they are needed to calculate the attention weights. \n",
    "\n",
    "Link to download the pre-trained word embeddings: http://nlp.stanford.edu/data/glove.6B.zip\n",
    "\n",
    "Link to download the translation training texts: http://www.manythings.org/anki/"
   ]
  },
  {
   "cell_type": "markdown",
   "metadata": {},
   "source": [
    "### Basic Imports "
   ]
  },
  {
   "cell_type": "code",
   "execution_count": 1,
   "metadata": {},
   "outputs": [
    {
     "name": "stderr",
     "output_type": "stream",
     "text": [
      "C:\\Users\\ambar\\Anaconda3\\envs\\tensorflow\\lib\\site-packages\\h5py\\__init__.py:36: FutureWarning: Conversion of the second argument of issubdtype from `float` to `np.floating` is deprecated. In future, it will be treated as `np.float64 == np.dtype(float).type`.\n",
      "  from ._conv import register_converters as _register_converters\n",
      "Using TensorFlow backend.\n"
     ]
    }
   ],
   "source": [
    "import os, sys\n",
    "from keras.models import Model\n",
    "from keras.layers import Input, LSTM, Dense, Embedding\n",
    "from keras.layers import Bidirectional, RepeatVector, Concatenate, Activation, Dot, Lambda\n",
    "from keras.preprocessing.text import Tokenizer\n",
    "from keras.preprocessing.sequence import pad_sequences\n",
    "import keras.backend as K\n",
    "import numpy as np\n",
    "import matplotlib.pyplot as plt"
   ]
  },
  {
   "cell_type": "markdown",
   "metadata": {},
   "source": [
    "### Constants "
   ]
  },
  {
   "cell_type": "code",
   "execution_count": 2,
   "metadata": {},
   "outputs": [],
   "source": [
    "BATCH_SIZE = 64\n",
    "EPOCHS = 10\n",
    "HIDDEN_DIM_ENCODER = 120\n",
    "HIDDEN_DIM_DECODER = 100 # This can be different here since we are using Attention \n",
    "NUM_SAMPLES = 10000\n",
    "MAX_SEQUENCE_LENGTH = 100\n",
    "MAX_NUM_WORDS = 20000\n",
    "EMBEDDING_DIM = 100"
   ]
  },
  {
   "cell_type": "markdown",
   "metadata": {},
   "source": [
    "### Softmax Over time \n",
    "We must take the attention softmax over the time axis, which is the 2nd axis. In Keras, by default the softmax is taken along the last axis. Therefore, we will use a custome function to perform this operation.\n",
    "\n",
    "Note: In the lastest version of Keras we can specify this by passing in the axis argument while calling the softmax function. \n"
   ]
  },
  {
   "cell_type": "code",
   "execution_count": 3,
   "metadata": {},
   "outputs": [],
   "source": [
    "def softmax_over_time(vector):\n",
    "    assert (K.ndim(vector)>2)\n",
    "    e = K.exp(vector - K.max(vector,axis=1,keepdims=True))\n",
    "    s = K.sum(e,axis=1,keepdims=True)\n",
    "    return e/s "
   ]
  },
  {
   "cell_type": "markdown",
   "metadata": {},
   "source": [
    "### Loading data"
   ]
  },
  {
   "cell_type": "code",
   "execution_count": 4,
   "metadata": {},
   "outputs": [],
   "source": [
    "input_texts = [] # sentence in original language\n",
    "target_texts = [] # sentence in target language\n",
    "target_texts_inputs = [] # sentence in target language offset by 1"
   ]
  },
  {
   "cell_type": "code",
   "execution_count": 5,
   "metadata": {},
   "outputs": [
    {
     "name": "stdout",
     "output_type": "stream",
     "text": [
      "Number of Samples: 10000\n"
     ]
    }
   ],
   "source": [
    "text = 0\n",
    "\n",
    "for line in open('deu.txt',encoding='utf8'):\n",
    "    \n",
    "    text = text+1\n",
    "    \n",
    "    if text > NUM_SAMPLES:\n",
    "        break\n",
    "   \n",
    "    if '\\t' not in line:\n",
    "        continue\n",
    "        \n",
    "    input_text, translation = line.split('\\t')\n",
    "    \n",
    "    target_text = translation + ' <eos>'\n",
    "    target_text_input = '<sos> ' + translation\n",
    "    \n",
    "    input_texts.append(input_text)\n",
    "    target_texts.append(target_text)\n",
    "    target_texts_inputs.append(target_text_input)\n",
    "    \n",
    "print('Number of Samples:', len(input_texts))"
   ]
  },
  {
   "cell_type": "markdown",
   "metadata": {},
   "source": [
    "### Tokenizing\n",
    "\n",
    "All the follwing steps until the creation of attention layer are identical to the previous seq2seq translation model "
   ]
  },
  {
   "cell_type": "markdown",
   "metadata": {},
   "source": [
    "#### Tokenizer 1 (inputs)"
   ]
  },
  {
   "cell_type": "code",
   "execution_count": 6,
   "metadata": {},
   "outputs": [],
   "source": [
    "tokenizer_inputs = Tokenizer(num_words=MAX_NUM_WORDS)\n",
    "tokenizer_inputs.fit_on_texts(input_texts)\n",
    "input_sequences = tokenizer_inputs.texts_to_sequences(input_texts)"
   ]
  },
  {
   "cell_type": "markdown",
   "metadata": {},
   "source": [
    "#### Word to index mapping (inputs)"
   ]
  },
  {
   "cell_type": "code",
   "execution_count": 7,
   "metadata": {},
   "outputs": [
    {
     "name": "stdout",
     "output_type": "stream",
     "text": [
      "Found 2339 unique tokens:\n"
     ]
    }
   ],
   "source": [
    "word2idx_inputs = tokenizer_inputs.word_index\n",
    "print('Found {} unique tokens:'.format(len(word2idx_inputs)))"
   ]
  },
  {
   "cell_type": "code",
   "execution_count": 8,
   "metadata": {},
   "outputs": [
    {
     "name": "stdout",
     "output_type": "stream",
     "text": [
      "Max input length 5\n"
     ]
    }
   ],
   "source": [
    "max_len_input = max(len(s) for s in input_sequences)\n",
    "print('Max input length',max_len_input)"
   ]
  },
  {
   "cell_type": "markdown",
   "metadata": {},
   "source": [
    "#### Tokenizer 2 (targets)"
   ]
  },
  {
   "cell_type": "code",
   "execution_count": 9,
   "metadata": {},
   "outputs": [],
   "source": [
    "tokenizer_outputs = Tokenizer(num_words=MAX_NUM_WORDS, filters='')\n",
    "tokenizer_outputs.fit_on_texts(target_texts + target_texts_inputs) \n",
    "target_sequences = tokenizer_outputs.texts_to_sequences(target_texts)\n",
    "target_sequences_inputs = tokenizer_outputs.texts_to_sequences(target_texts_inputs)"
   ]
  },
  {
   "cell_type": "markdown",
   "metadata": {},
   "source": [
    "#### Word to index mapping (targets)\n"
   ]
  },
  {
   "cell_type": "code",
   "execution_count": 10,
   "metadata": {},
   "outputs": [
    {
     "name": "stdout",
     "output_type": "stream",
     "text": [
      "Found 5225 unique tokens:\n"
     ]
    }
   ],
   "source": [
    "word2idx_outputs = tokenizer_outputs.word_index\n",
    "print('Found {} unique tokens:'.format(len(word2idx_outputs)))"
   ]
  },
  {
   "cell_type": "code",
   "execution_count": 11,
   "metadata": {},
   "outputs": [],
   "source": [
    "num_words_output = len(word2idx_outputs) + 1"
   ]
  },
  {
   "cell_type": "code",
   "execution_count": 12,
   "metadata": {},
   "outputs": [
    {
     "name": "stdout",
     "output_type": "stream",
     "text": [
      "Max len targets: 11\n"
     ]
    }
   ],
   "source": [
    "max_len_target = max(len(s) for s in target_sequences)\n",
    "print('Max len targets:',max_len_target)"
   ]
  },
  {
   "cell_type": "markdown",
   "metadata": {},
   "source": [
    "### Padding"
   ]
  },
  {
   "cell_type": "code",
   "execution_count": 13,
   "metadata": {},
   "outputs": [
    {
     "name": "stdout",
     "output_type": "stream",
     "text": [
      "encoder_inputs.shape: (10000, 5)\n",
      "encoder_inputs[0]: [  0   0   0   0 541]\n"
     ]
    }
   ],
   "source": [
    "encoder_inputs = pad_sequences(input_sequences, maxlen=max_len_input)\n",
    "print(\"encoder_inputs.shape:\", encoder_inputs.shape)\n",
    "print(\"encoder_inputs[0]:\", encoder_inputs[0])"
   ]
  },
  {
   "cell_type": "code",
   "execution_count": 14,
   "metadata": {},
   "outputs": [
    {
     "name": "stdout",
     "output_type": "stream",
     "text": [
      "decoder_inputs[0]: [   2 1103    0    0    0    0    0    0    0    0    0]\n",
      "decoder_inputs.shape: (10000, 11)\n"
     ]
    }
   ],
   "source": [
    "decoder_inputs = pad_sequences(target_sequences_inputs, maxlen=max_len_target, padding='post')\n",
    "print(\"decoder_inputs[0]:\", decoder_inputs[0])\n",
    "print(\"decoder_inputs.shape:\", decoder_inputs.shape)"
   ]
  },
  {
   "cell_type": "code",
   "execution_count": 15,
   "metadata": {},
   "outputs": [
    {
     "name": "stdout",
     "output_type": "stream",
     "text": [
      "decoder_targets[0]: [1103    1    0    0    0    0    0    0    0    0    0]\n",
      "decoder_targets.shape: (10000, 11)\n"
     ]
    }
   ],
   "source": [
    "decoder_targets = pad_sequences(target_sequences, maxlen=max_len_target, padding='post')\n",
    "print(\"decoder_targets[0]:\", decoder_targets[0])\n",
    "print(\"decoder_targets.shape:\", decoder_targets.shape)"
   ]
  },
  {
   "cell_type": "markdown",
   "metadata": {},
   "source": [
    "### Loading Glove Vectors"
   ]
  },
  {
   "cell_type": "code",
   "execution_count": 16,
   "metadata": {},
   "outputs": [
    {
     "name": "stdout",
     "output_type": "stream",
     "text": [
      "Found 400000 word vectors\n"
     ]
    }
   ],
   "source": [
    "word2vec = {}\n",
    "with open(os.path.join('glove.6B/glove.6B.100d.txt'),encoding='utf8') as f:\n",
    "  \n",
    "  for line in f:\n",
    "    values = line.split()\n",
    "    word = values[0]\n",
    "    vec = np.asarray(values[1:], dtype='float32')\n",
    "    word2vec[word] = vec\n",
    "print('Found {} word vectors'.format(len(word2vec)))"
   ]
  },
  {
   "cell_type": "markdown",
   "metadata": {},
   "source": [
    "### Creating Embedding matrix"
   ]
  },
  {
   "cell_type": "code",
   "execution_count": 17,
   "metadata": {},
   "outputs": [],
   "source": [
    "num_words = min(MAX_NUM_WORDS, len(word2idx_inputs) + 1)\n",
    "embedding_matrix = np.zeros((num_words, EMBEDDING_DIM))"
   ]
  },
  {
   "cell_type": "code",
   "execution_count": 18,
   "metadata": {},
   "outputs": [],
   "source": [
    "\n",
    "for word, i in word2idx_inputs.items():\n",
    "    if i < MAX_NUM_WORDS:\n",
    "        \n",
    "        embedding_vector = word2vec.get(word)\n",
    "    \n",
    "        if embedding_vector is not None:\n",
    "     \n",
    "          embedding_matrix[i] = embedding_vector"
   ]
  },
  {
   "cell_type": "code",
   "execution_count": 19,
   "metadata": {},
   "outputs": [
    {
     "data": {
      "text/plain": [
       "(2340, 100)"
      ]
     },
     "execution_count": 19,
     "metadata": {},
     "output_type": "execute_result"
    }
   ],
   "source": [
    "embedding_matrix.shape"
   ]
  },
  {
   "cell_type": "markdown",
   "metadata": {},
   "source": [
    "### Building Model"
   ]
  },
  {
   "cell_type": "markdown",
   "metadata": {},
   "source": [
    "#### Embedding layer"
   ]
  },
  {
   "cell_type": "code",
   "execution_count": 20,
   "metadata": {},
   "outputs": [],
   "source": [
    "embedding_layer = Embedding(num_words,EMBEDDING_DIM, weights=[embedding_matrix],input_length=max_len_input,\n",
    "                           trainable = True)"
   ]
  },
  {
   "cell_type": "markdown",
   "metadata": {},
   "source": [
    "#### One hot targets"
   ]
  },
  {
   "cell_type": "code",
   "execution_count": 21,
   "metadata": {},
   "outputs": [],
   "source": [
    "decoder_targets_one_hot = np.zeros((len(input_texts),max_len_target,num_words_output),dtype=np.float32)"
   ]
  },
  {
   "cell_type": "code",
   "execution_count": 22,
   "metadata": {},
   "outputs": [],
   "source": [
    "for i,d in enumerate(decoder_targets):\n",
    "    \n",
    "    for t,word in enumerate(d):\n",
    "        \n",
    "        decoder_targets_one_hot[i,t,word] = 1"
   ]
  },
  {
   "cell_type": "code",
   "execution_count": 23,
   "metadata": {},
   "outputs": [
    {
     "data": {
      "text/plain": [
       "(10000, 11, 5226)"
      ]
     },
     "execution_count": 23,
     "metadata": {},
     "output_type": "execute_result"
    }
   ],
   "source": [
    "decoder_targets_one_hot.shape"
   ]
  },
  {
   "cell_type": "markdown",
   "metadata": {},
   "source": [
    "#### Encoder"
   ]
  },
  {
   "cell_type": "code",
   "execution_count": 24,
   "metadata": {},
   "outputs": [],
   "source": [
    "encoder_inputs_placeholder = Input(shape=(max_len_input,))"
   ]
  },
  {
   "cell_type": "code",
   "execution_count": 25,
   "metadata": {},
   "outputs": [],
   "source": [
    "x = embedding_layer(encoder_inputs_placeholder)"
   ]
  },
  {
   "cell_type": "code",
   "execution_count": 26,
   "metadata": {},
   "outputs": [],
   "source": [
    "encoder = Bidirectional(LSTM(HIDDEN_DIM_ENCODER,return_sequences=True,dropout=0.4))"
   ]
  },
  {
   "cell_type": "code",
   "execution_count": 27,
   "metadata": {},
   "outputs": [],
   "source": [
    "encoder_outputs = encoder(x)"
   ]
  },
  {
   "cell_type": "markdown",
   "metadata": {},
   "source": [
    "#### Decoder \n",
    "\n",
    "The decoder and Attention mechanism is tightly coupled as if they both form a single layer  "
   ]
  },
  {
   "cell_type": "code",
   "execution_count": 28,
   "metadata": {},
   "outputs": [],
   "source": [
    "decoder_inputs_placeholder = Input(shape=(max_len_target,))"
   ]
  },
  {
   "cell_type": "code",
   "execution_count": 29,
   "metadata": {},
   "outputs": [],
   "source": [
    "decoder_embedding = Embedding(num_words_output, EMBEDDING_DIM)"
   ]
  },
  {
   "cell_type": "code",
   "execution_count": 30,
   "metadata": {},
   "outputs": [],
   "source": [
    "decoder_inputs_x = decoder_embedding(decoder_inputs_placeholder)"
   ]
  },
  {
   "cell_type": "markdown",
   "metadata": {},
   "source": [
    "### The Attention Mechanism "
   ]
  },
  {
   "cell_type": "markdown",
   "metadata": {},
   "source": [
    "#### Setting up attention layers \n",
    "\n",
    "The attention layers must be global because they must be used again and again for the entire length of output seqence."
   ]
  },
  {
   "cell_type": "code",
   "execution_count": 31,
   "metadata": {},
   "outputs": [],
   "source": [
    "attn_repeat_layer = RepeatVector(max_len_input)"
   ]
  },
  {
   "cell_type": "code",
   "execution_count": 32,
   "metadata": {},
   "outputs": [],
   "source": [
    "attn_concat_layer = Concatenate(axis=-1)"
   ]
  },
  {
   "cell_type": "code",
   "execution_count": 33,
   "metadata": {},
   "outputs": [],
   "source": [
    "attn_dense1 = Dense(10, activation='tanh')"
   ]
  },
  {
   "cell_type": "code",
   "execution_count": 34,
   "metadata": {},
   "outputs": [],
   "source": [
    "attn_dense2 = Dense(1, activation=softmax_over_time)"
   ]
  },
  {
   "cell_type": "code",
   "execution_count": 35,
   "metadata": {},
   "outputs": [],
   "source": [
    "attn_dot = Dot(axes=1) # to take the weighted sum of attention weights and hidden states "
   ]
  },
  {
   "cell_type": "code",
   "execution_count": 36,
   "metadata": {},
   "outputs": [],
   "source": [
    "def one_step_attention(h, st_1):\n",
    "    \n",
    "    '''\n",
    "     returns the context vector by performing attention operation for one output seqence \n",
    "    '''\n",
    "    \n",
    "    \n",
    "    \n",
    "    st_1 = attn_repeat_layer(st_1)\n",
    "    \n",
    "    x = attn_concat_layer([h,st_1])\n",
    "    \n",
    "    x = attn_dense1(x)\n",
    "    \n",
    "    alphas = attn_dense2(x)\n",
    "    \n",
    "    context = attn_dot([alphas,h])\n",
    " \n",
    "    return context"
   ]
  },
  {
   "cell_type": "markdown",
   "metadata": {},
   "source": [
    "#### Decoder cont... "
   ]
  },
  {
   "cell_type": "code",
   "execution_count": 37,
   "metadata": {},
   "outputs": [],
   "source": [
    "decoder_lstm = LSTM(HIDDEN_DIM_DECODER, return_state=True)"
   ]
  },
  {
   "cell_type": "code",
   "execution_count": 38,
   "metadata": {},
   "outputs": [],
   "source": [
    "decoder_dense = Dense(num_words_output, activation='softmax')"
   ]
  },
  {
   "cell_type": "code",
   "execution_count": 39,
   "metadata": {},
   "outputs": [],
   "source": [
    "initial_s = Input(shape=(HIDDEN_DIM_DECODER,), name='s0')\n",
    "\n",
    "initial_c = Input(shape=(HIDDEN_DIM_DECODER,), name='c0')\n",
    "\n",
    "context_last_word_concat_layer = Concatenate(axis=2) # Teacher forcing - concats context vector with inputs "
   ]
  },
  {
   "cell_type": "markdown",
   "metadata": {},
   "source": [
    "Unlike the usual seq2seq model the output is not directly taken from the decoder LSTM, here we must loop through the entire output seqences. "
   ]
  },
  {
   "cell_type": "code",
   "execution_count": 40,
   "metadata": {},
   "outputs": [],
   "source": [
    "s = initial_s\n",
    "c = initial_c"
   ]
  },
  {
   "cell_type": "code",
   "execution_count": 41,
   "metadata": {},
   "outputs": [],
   "source": [
    "outputs = []\n",
    "\n",
    "for t in range(max_len_target): \n",
    "  \n",
    "    context = one_step_attention(encoder_outputs, s)\n",
    "\n",
    "\n",
    "    selector = Lambda(lambda x: x[:, t:t+1]) # we must use a different layer for each timestep \n",
    "    \n",
    "    xt = selector(decoder_inputs_x)\n",
    "\n",
    "\n",
    "    decoder_lstm_input = context_last_word_concat_layer([context, xt])\n",
    "\n",
    "\n",
    "    o, s, c = decoder_lstm(decoder_lstm_input, initial_state=[s, c])\n",
    "\n",
    "\n",
    "    decoder_outputs = decoder_dense(o)\n",
    "\n",
    "    outputs.append(decoder_outputs)\n",
    "\n"
   ]
  },
  {
   "cell_type": "markdown",
   "metadata": {},
   "source": [
    "Since we looped through the entire output seqence, our final output will be of shape (output_seq, batch_size, output_vocab). This is not what we want, threfore we must transpose the output vector into the shape (batch_size,output_seq,output_vocab). "
   ]
  },
  {
   "cell_type": "code",
   "execution_count": 42,
   "metadata": {},
   "outputs": [],
   "source": [
    "def stack_and_transpose(x):\n",
    "    \n",
    "    x = K.stack(x)\n",
    "    x = K.permute_dimensions(x,pattern=(1,0,2))\n",
    "    \n",
    "    return x"
   ]
  },
  {
   "cell_type": "markdown",
   "metadata": {},
   "source": [
    "In Keras every operation must be a layer, so make tha above function a layer "
   ]
  },
  {
   "cell_type": "code",
   "execution_count": 43,
   "metadata": {},
   "outputs": [],
   "source": [
    "stacker = Lambda(stack_and_transpose)"
   ]
  },
  {
   "cell_type": "code",
   "execution_count": 44,
   "metadata": {},
   "outputs": [],
   "source": [
    "outputs = stacker(outputs)"
   ]
  },
  {
   "cell_type": "markdown",
   "metadata": {},
   "source": [
    "#### Create the Model "
   ]
  },
  {
   "cell_type": "code",
   "execution_count": 45,
   "metadata": {},
   "outputs": [],
   "source": [
    "model = Model(inputs=[encoder_inputs_placeholder,decoder_inputs_placeholder,initial_s,initial_c], outputs=outputs)"
   ]
  },
  {
   "cell_type": "code",
   "execution_count": 46,
   "metadata": {},
   "outputs": [],
   "source": [
    "model.compile(optimizer='rmsprop', loss='categorical_crossentropy', metrics=['accuracy'])"
   ]
  },
  {
   "cell_type": "code",
   "execution_count": 47,
   "metadata": {},
   "outputs": [],
   "source": [
    "# we need to do this to have control over initial hidden and cell states of the decoder \n",
    "\n",
    "z = np.zeros((NUM_SAMPLES, HIDDEN_DIM_DECODER)) "
   ]
  },
  {
   "cell_type": "code",
   "execution_count": 48,
   "metadata": {},
   "outputs": [
    {
     "name": "stdout",
     "output_type": "stream",
     "text": [
      "Train on 8000 samples, validate on 2000 samples\n",
      "Epoch 1/10\n",
      "8000/8000 [==============================] - 50s 6ms/step - loss: 3.1290 - acc: 0.5981 - val_loss: 2.7182 - val_acc: 0.6028\n",
      "Epoch 2/10\n",
      "8000/8000 [==============================] - 45s 6ms/step - loss: 2.0911 - acc: 0.6951 - val_loss: 2.3804 - val_acc: 0.6849\n",
      "Epoch 3/10\n",
      "8000/8000 [==============================] - 45s 6ms/step - loss: 1.8170 - acc: 0.7270 - val_loss: 2.2130 - val_acc: 0.6959\n",
      "Epoch 4/10\n",
      "8000/8000 [==============================] - 45s 6ms/step - loss: 1.6688 - acc: 0.7470 - val_loss: 2.1096 - val_acc: 0.7100\n",
      "Epoch 5/10\n",
      "8000/8000 [==============================] - 45s 6ms/step - loss: 1.5575 - acc: 0.7594 - val_loss: 2.0103 - val_acc: 0.7206\n",
      "Epoch 6/10\n",
      "8000/8000 [==============================] - 44s 6ms/step - loss: 1.4682 - acc: 0.7704 - val_loss: 1.9539 - val_acc: 0.7326\n",
      "Epoch 7/10\n",
      "8000/8000 [==============================] - 44s 5ms/step - loss: 1.3993 - acc: 0.7797 - val_loss: 1.8950 - val_acc: 0.7411\n",
      "Epoch 8/10\n",
      "8000/8000 [==============================] - 45s 6ms/step - loss: 1.3412 - acc: 0.7879 - val_loss: 1.8858 - val_acc: 0.7437\n",
      "Epoch 9/10\n",
      "8000/8000 [==============================] - 44s 6ms/step - loss: 1.2860 - acc: 0.7943 - val_loss: 1.8396 - val_acc: 0.7511\n",
      "Epoch 10/10\n",
      "8000/8000 [==============================] - 44s 5ms/step - loss: 1.2356 - acc: 0.8009 - val_loss: 1.8138 - val_acc: 0.7558\n"
     ]
    }
   ],
   "source": [
    "r = model.fit([encoder_inputs,decoder_inputs,z,z],decoder_targets_one_hot,batch_size=BATCH_SIZE,epochs=EPOCHS,\n",
    "              verbose=1,validation_split=0.2)"
   ]
  },
  {
   "cell_type": "markdown",
   "metadata": {},
   "source": [
    "### Plotting some resutls "
   ]
  },
  {
   "cell_type": "code",
   "execution_count": 49,
   "metadata": {},
   "outputs": [
    {
     "data": {
      "text/plain": [
       "<matplotlib.legend.Legend at 0x1cb5fe49668>"
      ]
     },
     "execution_count": 49,
     "metadata": {},
     "output_type": "execute_result"
    },
    {
     "data": {
      "image/png": "[encoded data removed]",
      "text/plain": [
       "<Figure size 432x288 with 1 Axes>"
      ]
     },
     "metadata": {},
     "output_type": "display_data"
    }
   ],
   "source": [
    "plt.plot(r.history['loss'], label='loss')\n",
    "plt.plot(r.history['val_loss'], label='val_loss')\n",
    "plt.legend()"
   ]
  },
  {
   "cell_type": "code",
   "execution_count": 50,
   "metadata": {},
   "outputs": [
    {
     "data": {
      "text/plain": [
       "<matplotlib.legend.Legend at 0x1cb5efb2b38>"
      ]
     },
     "execution_count": 50,
     "metadata": {},
     "output_type": "execute_result"
    },
    {
     "data": {
      "image/png": "[encoded data removed]",
      "text/plain": [
       "<Figure size 432x288 with 1 Axes>"
      ]
     },
     "metadata": {},
     "output_type": "display_data"
    }
   ],
   "source": [
    "plt.plot(r.history['acc'], label='acc')\n",
    "plt.plot(r.history['val_acc'], label='val_acc')\n",
    "plt.legend()"
   ]
  },
  {
   "cell_type": "markdown",
   "metadata": {},
   "source": [
    "### Generative Model "
   ]
  },
  {
   "cell_type": "code",
   "execution_count": 51,
   "metadata": {},
   "outputs": [],
   "source": [
    "encoder_model = Model(encoder_inputs_placeholder, encoder_outputs)"
   ]
  },
  {
   "cell_type": "code",
   "execution_count": 52,
   "metadata": {},
   "outputs": [],
   "source": [
    "encoder_outputs_as_input = Input(shape=(max_len_input, HIDDEN_DIM_ENCODER * 2,)) # note *2 because its bidirectional \n",
    "\n",
    "decoder_inputs_single = Input(shape=(1,))\n",
    "\n",
    "decoder_inputs_single_x = decoder_embedding(decoder_inputs_single)"
   ]
  },
  {
   "cell_type": "code",
   "execution_count": 53,
   "metadata": {},
   "outputs": [],
   "source": [
    "context = one_step_attention(encoder_outputs_as_input, initial_s)"
   ]
  },
  {
   "cell_type": "code",
   "execution_count": 54,
   "metadata": {},
   "outputs": [],
   "source": [
    "decoder_lstm_input = context_last_word_concat_layer([context, decoder_inputs_single_x])"
   ]
  },
  {
   "cell_type": "code",
   "execution_count": 55,
   "metadata": {},
   "outputs": [],
   "source": [
    "o, s, c = decoder_lstm(decoder_lstm_input, initial_state=[initial_s, initial_c])"
   ]
  },
  {
   "cell_type": "code",
   "execution_count": 56,
   "metadata": {},
   "outputs": [],
   "source": [
    "decoder_outputs = decoder_dense(o)"
   ]
  },
  {
   "cell_type": "code",
   "execution_count": 57,
   "metadata": {},
   "outputs": [],
   "source": [
    "decoder_model = Model(inputs=[decoder_inputs_single,encoder_outputs_as_input,initial_s,initial_c],\n",
    "                      outputs=[decoder_outputs,s,c])"
   ]
  },
  {
   "cell_type": "code",
   "execution_count": 58,
   "metadata": {},
   "outputs": [],
   "source": [
    "idx2word_eng = {v:k for k, v in word2idx_inputs.items()}\n",
    "idx2word_trans = {v:k for k, v in word2idx_outputs.items()}"
   ]
  },
  {
   "cell_type": "code",
   "execution_count": 59,
   "metadata": {},
   "outputs": [],
   "source": [
    "def gen_model(input_seq):\n",
    "  \n",
    "    enc_out = encoder_model.predict(input_seq)\n",
    "\n",
    "    target_seq = np.zeros((1, 1))\n",
    "\n",
    "\n",
    "    target_seq[0, 0] = word2idx_outputs['<sos>']\n",
    "\n",
    "    eos = word2idx_outputs['<eos>']\n",
    "\n",
    "\n",
    "\n",
    "    s = np.zeros((1, HIDDEN_DIM_DECODER))\n",
    "    c = np.zeros((1, HIDDEN_DIM_DECODER))\n",
    "\n",
    "\n",
    "\n",
    "    output_sentence = []\n",
    "    for _ in range(max_len_target):\n",
    "        o, s, c = decoder_model.predict([target_seq, enc_out, s, c])\n",
    "\n",
    "\n",
    "\n",
    "        idx = np.argmax(o.flatten())\n",
    "\n",
    "        if eos == idx:\n",
    "            break\n",
    "    \n",
    "        word = ''\n",
    "\n",
    "        if idx > 0:\n",
    "\n",
    "            word = idx2word_trans[idx]\n",
    "            output_sentence.append(word)\n",
    "\n",
    "\n",
    "        target_seq[0, 0] = idx\n",
    "\n",
    "    return ' '.join(output_sentence)"
   ]
  },
  {
   "cell_type": "code",
   "execution_count": 60,
   "metadata": {},
   "outputs": [
    {
     "name": "stdout",
     "output_type": "stream",
     "text": [
      "------------\n",
      "English Input: Show it to her.\n",
      "Predicted translation: lass es an.\n",
      "\n",
      "Actual translation: Zeig sie ihr!\n",
      " <eos>\n",
      "Continue? [Y/n]y\n",
      "------------\n",
      "English Input: I made Tom go.\n",
      "Predicted translation: ich werde tom tom gesehen.\n",
      "\n",
      "Actual translation: Ich habe Tom veranlasst zu gehen.\n",
      " <eos>\n",
      "Continue? [Y/n]y\n",
      "------------\n",
      "English Input: We're reliable.\n",
      "Predicted translation: wir sind zu zu hause.\n",
      "\n",
      "Actual translation: Man kann sich auf uns verlassen.\n",
      " <eos>\n",
      "Continue? [Y/n]y\n",
      "------------\n",
      "English Input: I found it.\n",
      "Predicted translation: ich habe es gefunden.\n",
      "\n",
      "Actual translation: Ich habe es gefunden.\n",
      " <eos>\n",
      "Continue? [Y/n]y\n",
      "------------\n",
      "English Input: I'll go see.\n",
      "Predicted translation: ich werde mich gehen.\n",
      "\n",
      "Actual translation: Ich werde nachsehen.\n",
      " <eos>\n",
      "Continue? [Y/n]y\n",
      "------------\n",
      "English Input: I feel so lost.\n",
      "Predicted translation: ich bin nicht gehen.\n",
      "\n",
      "Actual translation: Ich fühle mich so verloren.\n",
      " <eos>\n",
      "Continue? [Y/n]n\n"
     ]
    }
   ],
   "source": [
    "while True:\n",
    "\n",
    "    i = np.random.choice(len(input_texts))\n",
    "    \n",
    "    English_input = encoder_inputs[i:i+1]\n",
    "    \n",
    "    translation = gen_model(English_input)\n",
    "    \n",
    "    print('------------')\n",
    "    \n",
    "    print('English Input:', input_texts[i])\n",
    "    \n",
    "    print('Predicted translation:', translation)\n",
    "    \n",
    "    print('Actual translation:', target_texts[i])\n",
    "\n",
    "    ans = input(\"Continue? [Y/n]\")\n",
    "    if ans and ans.lower().startswith('n'):\n",
    "        break"
   ]
  },
  {
   "cell_type": "markdown",
   "metadata": {},
   "source": [
    "Even after just 10 epochs we can see how powefull the Attention Mechanism truly is when compared with the standard seq2seq model"
   ]
  },
  {
   "cell_type": "code",
   "execution_count": null,
   "metadata": {},
   "outputs": [],
   "source": []
  }
 ],
 "metadata": {
  "kernelspec": {
   "display_name": "Python 3",
   "language": "python",
   "name": "python3"
  },
  "language_info": {
   "codemirror_mode": {
    "name": "ipython",
    "version": 3
   },
   "file_extension": ".py",
   "mimetype": "text/x-python",
   "name": "python",
   "nbconvert_exporter": "python",
   "pygments_lexer": "ipython3",
   "version": "3.6.5"
  }
 },
 "nbformat": 4,
 "nbformat_minor": 2
}
