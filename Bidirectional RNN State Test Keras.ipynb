{
 "cells": [
  {
   "cell_type": "markdown",
   "metadata": {},
   "source": [
    "## Bidirectional RNN State Test Keras\n",
    "\n",
    "In this notebook I will be demostrating the difference between return_seqences and return_states in the Keras API for bidirectional recrrent layers. I will be using both LSTM and GRU cells for this purpose."
   ]
  },
  {
   "cell_type": "code",
   "execution_count": 1,
   "metadata": {},
   "outputs": [
    {
     "name": "stderr",
     "output_type": "stream",
     "text": [
      "Using TensorFlow backend.\n"
     ]
    }
   ],
   "source": [
    "from keras.models import Model\n",
    "from keras.layers import Input, LSTM, GRU, Bidirectional\n",
    "import numpy as np"
   ]
  },
  {
   "cell_type": "code",
   "execution_count": 2,
   "metadata": {},
   "outputs": [],
   "source": [
    "T = 10 # seqence length or time-steps\n",
    "D = 2 # Input dimension or features \n",
    "M = 4 # Hidden layer size "
   ]
  },
  {
   "cell_type": "code",
   "execution_count": 3,
   "metadata": {},
   "outputs": [],
   "source": [
    "X = np.random.randn(1,T,D)"
   ]
  },
  {
   "cell_type": "markdown",
   "metadata": {},
   "source": [
    "### Bidirectional LSTM"
   ]
  },
  {
   "cell_type": "code",
   "execution_count": 4,
   "metadata": {},
   "outputs": [],
   "source": [
    "def blstm_1():\n",
    "    '''\n",
    "    This functions defines a BLSTM cell and returns its output, 2 hidden states and 2 cell states.\n",
    "    The return_state is set to True and return_seqences is set to False.\n",
    "    '''\n",
    "    \n",
    "    input_ = Input(shape=(T,D))\n",
    "    rnn = Bidirectional(LSTM(units= M,return_state=True,return_sequences=False))\n",
    "    x = rnn(input_)\n",
    "    \n",
    "    model = Model(input_,x)\n",
    "    o,h1,c1,h2,c2 = model.predict(X)\n",
    "    \n",
    "    print('Output:',o)\n",
    "    print('\\n')\n",
    "    print('Output Shape:',o.shape)\n",
    "    print('\\n')\n",
    "    print('Hidden State 1:',h1)\n",
    "    print('\\n')\n",
    "    print('Hidden state 1 shape:',h1.shape)\n",
    "    print('\\n')\n",
    "    print('Cell State 1:',c1)\n",
    "    print('\\n')\n",
    "    print('Cell state 1 shape:',c1.shape)\n",
    "    print('\\n')\n",
    "    print('Hidden State 2:',h2)\n",
    "    print('\\n')\n",
    "    print('Hidden state 2 shape:',h2.shape)\n",
    "    print('\\n')\n",
    "    print('Cell State 2:',c2)\n",
    "    print('\\n')\n",
    "    print('Cell state 2 shape:',c2.shape)"
   ]
  },
  {
   "cell_type": "code",
   "execution_count": 5,
   "metadata": {},
   "outputs": [],
   "source": [
    "def blstm_2():\n",
    "    '''\n",
    "    This functions defines a BLSTM cell and returns its output, 2 hidden states and 2 cell states.\n",
    "    The return_state is set to True and return_seqences is set to True.\n",
    "    '''\n",
    "    \n",
    "    input_ = Input(shape=(T,D))\n",
    "    rnn = Bidirectional(LSTM(units= M,return_state=True,return_sequences=True))\n",
    "    x = rnn(input_)\n",
    "    \n",
    "    model = Model(input_,x)\n",
    "    o,h1,c1,h2,c2 = model.predict(X)\n",
    "    \n",
    "    print('Output:',o)\n",
    "    print('\\n')\n",
    "    print('Output Shape:',o.shape)\n",
    "    print('\\n')\n",
    "    print('Hidden State 1:',h1)\n",
    "    print('\\n')\n",
    "    print('Hidden state 1 shape:',h1.shape)\n",
    "    print('\\n')\n",
    "    print('Cell State 1:',c1)\n",
    "    print('\\n')\n",
    "    print('Cell state 1 shape:',c1.shape)\n",
    "    print('\\n')\n",
    "    print('Hidden State 2:',h2)\n",
    "    print('\\n')\n",
    "    print('Hidden state 2 shape:',h2.shape)\n",
    "    print('\\n')\n",
    "    print('Cell State 2:',c2)\n",
    "    print('\\n')\n",
    "    print('Cell state 2 shape:',c2.shape)"
   ]
  },
  {
   "cell_type": "markdown",
   "metadata": {},
   "source": [
    "### Bidirectional GRU"
   ]
  },
  {
   "cell_type": "code",
   "execution_count": 6,
   "metadata": {},
   "outputs": [],
   "source": [
    "def bgru_1():\n",
    "    '''\n",
    "    This functions defines a GRU cell and returns its output and 2 hidden states.\n",
    "    The return_state is set to True and return_seqences is set to False.\n",
    "    '''\n",
    "    \n",
    "    input_ = Input(shape=(T,D))\n",
    "    rnn = Bidirectional(GRU(units= M,return_state=True,return_sequences=False))\n",
    "    x = rnn(input_)\n",
    "    \n",
    "    model = Model(input_,x)\n",
    "    o,h1,h2 = model.predict(X)\n",
    "    \n",
    "    print('Output:',o)\n",
    "    print('\\n')\n",
    "    print('Output Shape:',o.shape)\n",
    "    print('\\n')\n",
    "    print('Hidden State 1:',h1)\n",
    "    print('\\n')\n",
    "    print('Hidden state 1 shape:',h1.shape)\n",
    "    print('\\n')\n",
    "    print('Hidden State 2:',h2)\n",
    "    print('\\n')\n",
    "    print('Hidden state 2 shape:',h2.shape)    "
   ]
  },
  {
   "cell_type": "code",
   "execution_count": 7,
   "metadata": {},
   "outputs": [],
   "source": [
    "def bgru_2():\n",
    "    '''\n",
    "    This functions defines a GRU cell and returns its output and 2 hidden states.\n",
    "    The return_state is set to True and return_seqences is set to True.\n",
    "    '''\n",
    "    \n",
    "    input_ = Input(shape=(T,D))\n",
    "    rnn = Bidirectional(GRU(units= M,return_sequences=True,return_state=True))\n",
    "    x = rnn(input_)\n",
    "    \n",
    "    model = Model(input_,x)\n",
    "    o,h1,h2 = model.predict(X)\n",
    "    \n",
    "    print('Output:',o)\n",
    "    print('\\n')\n",
    "    print('Output Shape:',o.shape)\n",
    "    print('\\n')\n",
    "    print('Hidden State 1:',h1)\n",
    "    print('\\n')\n",
    "    print('Hidden state 1 shape:',h1.shape)\n",
    "    print('\\n')\n",
    "    print('Hidden State 2:',h2)\n",
    "    print('\\n')\n",
    "    print('Hidden state 2 shape:',h2.shape)"
   ]
  },
  {
   "cell_type": "markdown",
   "metadata": {},
   "source": [
    "### BLSTM output"
   ]
  },
  {
   "cell_type": "code",
   "execution_count": 8,
   "metadata": {},
   "outputs": [
    {
     "name": "stdout",
     "output_type": "stream",
     "text": [
      "blstm_1\n",
      "\n",
      "\n",
      "Output: [[-0.07272494 -0.00931014  0.18570657 -0.23373038  0.01153285 -0.01562821\n",
      "   0.04034535  0.04489711]]\n",
      "\n",
      "\n",
      "Output Shape: (1, 8)\n",
      "\n",
      "\n",
      "Hidden State 1: [[-0.07272494 -0.00931014  0.18570657 -0.23373038]]\n",
      "\n",
      "\n",
      "Hidden state 1 shape: (1, 4)\n",
      "\n",
      "\n",
      "Cell State 1: [[-0.24530303 -0.01658299  0.2888326  -0.4458555 ]]\n",
      "\n",
      "\n",
      "Cell state 1 shape: (1, 4)\n",
      "\n",
      "\n",
      "Hidden State 2: [[ 0.01153285 -0.01562821  0.04034535  0.04489711]]\n",
      "\n",
      "\n",
      "Hidden state 2 shape: (1, 4)\n",
      "\n",
      "\n",
      "Cell State 2: [[ 0.02228261 -0.03017764  0.08204107  0.09392265]]\n",
      "\n",
      "\n",
      "Cell state 2 shape: (1, 4)\n"
     ]
    }
   ],
   "source": [
    "print('blstm_1')\n",
    "print('\\n')\n",
    "blstm_1()"
   ]
  },
  {
   "cell_type": "markdown",
   "metadata": {},
   "source": [
    "We can notice one big difference here between a normal LSTM and BLSTM in the output shape. The output is now of the shape (1,8) instead of (1,4). The reason for this is as follows:\n",
    "\n",
    "The output of a BLSTM is just a concatenation of the final states in both directions. To make things clear, notice we have two hidden states and cell states instead of one. The two states corresponds to the two directions of information flow. Hidden state 1 and hidden state 2 corresponds to the last and first hidden state values of the entire seqence. i.e. \n",
    "\n",
    "Hidden State 1 = seqence number 10, which is the final seqence in the left to right direction of an unrolled RNN. \n",
    "\n",
    "Hidden State 2 = seqence number 1, which is the final seqence in the right to left direction of an unrolled RNN.\n",
    "\n",
    "Output = concat(Hidden State 1,Hidden State 2)"
   ]
  },
  {
   "cell_type": "code",
   "execution_count": 9,
   "metadata": {},
   "outputs": [
    {
     "name": "stdout",
     "output_type": "stream",
     "text": [
      "blstm_2\n",
      "\n",
      "\n",
      "Output: [[[ 0.01486669 -0.00664039  0.00698408 -0.01022097 -0.00158847\n",
      "   -0.03448543 -0.0124014  -0.06776426]\n",
      "  [-0.16552025  0.02255989 -0.04758108  0.04943033 -0.0204436\n",
      "   -0.09277412 -0.01117494 -0.09639166]\n",
      "  [-0.0451245   0.02227459 -0.02526875  0.02032619  0.06558246\n",
      "    0.04767768  0.05196953  0.07861554]\n",
      "  [-0.09808661 -0.09639124  0.06428535 -0.02209685  0.07100064\n",
      "    0.07777207  0.07572982  0.0691034 ]\n",
      "  [ 0.08295438  0.00981103 -0.09098635  0.02103446  0.20424181\n",
      "   -0.04478901  0.18435621  0.189435  ]\n",
      "  [ 0.16267611 -0.04488373 -0.04129288 -0.16780153  0.3397531\n",
      "    0.08975103  0.04619681  0.09992843]\n",
      "  [ 0.23275426 -0.04437066 -0.0319993  -0.20664667  0.08280363\n",
      "    0.01551762  0.02671279 -0.06754074]\n",
      "  [ 0.23689437 -0.18356834  0.09238841 -0.10501926 -0.21862574\n",
      "   -0.07533302 -0.04044197 -0.21028061]\n",
      "  [ 0.04289437 -0.02438599 -0.10192861  0.0153873  -0.03573698\n",
      "   -0.1892112   0.13786297 -0.16150202]\n",
      "  [-0.10542316  0.00300268 -0.15905759  0.0719002  -0.03718113\n",
      "   -0.12940602  0.02917747 -0.11060607]]]\n",
      "\n",
      "\n",
      "Output Shape: (1, 10, 8)\n",
      "\n",
      "\n",
      "Hidden State 1: [[-0.10542316  0.00300268 -0.15905759  0.0719002 ]]\n",
      "\n",
      "\n",
      "Hidden state 1 shape: (1, 4)\n",
      "\n",
      "\n",
      "Cell State 1: [[-0.17144617  0.00989624 -0.25119832  0.17748757]]\n",
      "\n",
      "\n",
      "Cell state 1 shape: (1, 4)\n",
      "\n",
      "\n",
      "Hidden State 2: [[-0.00158847 -0.03448543 -0.0124014  -0.06776426]]\n",
      "\n",
      "\n",
      "Hidden state 2 shape: (1, 4)\n",
      "\n",
      "\n",
      "Cell State 2: [[-0.00308847 -0.06978409 -0.02570627 -0.13644771]]\n",
      "\n",
      "\n",
      "Cell state 2 shape: (1, 4)\n"
     ]
    }
   ],
   "source": [
    "print('blstm_2')\n",
    "print('\\n')\n",
    "blstm_2()"
   ]
  },
  {
   "cell_type": "markdown",
   "metadata": {},
   "source": [
    "Again, the return_seqences returns the whole seqence as we expected but we can see something interesting here. \n",
    "\n",
    "The first 4 values of the last row of the output is equal to hidden state 1 but where did the information from hidden state 2 go? \n",
    "\n",
    "If we compare the output and hidden state 2 carefully we can see that the last 4 values of the first row of the output is equal to hidden state 2. This is exactly what we discussed in the previous example of blstm_1. The output is still a concatenation but since its returning the whole seqence it is concatenated in this weird way and this is due to the bidirecional information flow in the network. "
   ]
  },
  {
   "cell_type": "code",
   "execution_count": 10,
   "metadata": {},
   "outputs": [
    {
     "name": "stdout",
     "output_type": "stream",
     "text": [
      "bgru_1\n",
      "\n",
      "\n",
      "Output: [[ 0.04987152 -0.33130506  0.13854322 -0.3184001   0.00665762  0.02636986\n",
      "   0.04008721 -0.04603245]]\n",
      "\n",
      "\n",
      "Output Shape: (1, 8)\n",
      "\n",
      "\n",
      "Hidden State 1: [[ 0.04987152 -0.33130506  0.13854322 -0.3184001 ]]\n",
      "\n",
      "\n",
      "Hidden state 1 shape: (1, 4)\n",
      "\n",
      "\n",
      "Hidden State 2: [[ 0.00665762  0.02636986  0.04008721 -0.04603245]]\n",
      "\n",
      "\n",
      "Hidden state 2 shape: (1, 4)\n"
     ]
    }
   ],
   "source": [
    "print('bgru_1')\n",
    "print('\\n')\n",
    "bgru_1()"
   ]
  },
  {
   "cell_type": "code",
   "execution_count": 11,
   "metadata": {},
   "outputs": [
    {
     "name": "stdout",
     "output_type": "stream",
     "text": [
      "bgru_2\n",
      "\n",
      "\n",
      "Output: [[[ 0.0364768   0.01162599 -0.02507496  0.04173098 -0.01018282\n",
      "   -0.00417745 -0.03776855 -0.0219193 ]\n",
      "  [-0.4708737  -0.1614711   0.24318287 -0.44654268 -0.06276301\n",
      "    0.07138359 -0.09093402  0.00478285]\n",
      "  [-0.11734474  0.04273089  0.15234597 -0.27426985  0.19557178\n",
      "   -0.12639455  0.14074163 -0.06988262]\n",
      "  [-0.07935994 -0.21555974 -0.06636427 -0.06283084  0.39877555\n",
      "   -0.07207565  0.17745146 -0.12402748]\n",
      "  [ 0.19183218  0.23478857  0.15954554 -0.18202311 -0.0265983\n",
      "   -0.56148607 -0.03325167  0.13767609]\n",
      "  [ 0.3849018   0.51164305  0.01362978  0.05362962  0.2419078\n",
      "   -0.6508099   0.2107172  -0.12927161]\n",
      "  [ 0.4959244   0.5131718  -0.10298213  0.25898144  0.31343007\n",
      "   -0.32685176  0.16775987 -0.19149664]\n",
      "  [ 0.12238817 -0.07256809 -0.3203943   0.30675077  0.47673616\n",
      "    0.4046835   0.11049059 -0.2503108 ]\n",
      "  [-0.3866107  -0.02197029  0.19762085 -0.39635062 -0.38840663\n",
      "    0.19543213 -0.3178661   0.18233895]\n",
      "  [-0.46054593 -0.03908342  0.39103785 -0.6174972  -0.21144629\n",
      "    0.13665049 -0.18008378  0.08477065]]]\n",
      "\n",
      "\n",
      "Output Shape: (1, 10, 8)\n",
      "\n",
      "\n",
      "Hidden State 1: [[-0.46054593 -0.03908342  0.39103785 -0.6174972 ]]\n",
      "\n",
      "\n",
      "Hidden state 1 shape: (1, 4)\n",
      "\n",
      "\n",
      "Hidden State 2: [[-0.01018282 -0.00417745 -0.03776855 -0.0219193 ]]\n",
      "\n",
      "\n",
      "Hidden state 2 shape: (1, 4)\n"
     ]
    }
   ],
   "source": [
    "print('bgru_2')\n",
    "print('\\n')\n",
    "bgru_2()"
   ]
  },
  {
   "cell_type": "markdown",
   "metadata": {},
   "source": [
    "As explained in the 'RNN State Test using Keras' notebook GRU is just a simplified version of LSTM "
   ]
  },
  {
   "cell_type": "code",
   "execution_count": null,
   "metadata": {},
   "outputs": [],
   "source": []
  }
 ],
 "metadata": {
  "kernelspec": {
   "display_name": "Python 3",
   "language": "python",
   "name": "python3"
  },
  "language_info": {
   "codemirror_mode": {
    "name": "ipython",
    "version": 3
   },
   "file_extension": ".py",
   "mimetype": "text/x-python",
   "name": "python",
   "nbconvert_exporter": "python",
   "pygments_lexer": "ipython3",
   "version": "3.6.5"
  }
 },
 "nbformat": 4,
 "nbformat_minor": 2
}
